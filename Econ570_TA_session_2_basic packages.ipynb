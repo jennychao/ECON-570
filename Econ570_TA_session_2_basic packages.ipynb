{
 "cells": [
  {
   "cell_type": "markdown",
   "metadata": {},
   "source": [
    "# Econ 570 Big Data Econometrics - 2nd TA session\n",
    "Youngmin Ju"
   ]
  },
  {
   "cell_type": "markdown",
   "metadata": {
    "ExecuteTime": {
     "end_time": "2021-02-09T13:32:40.066719Z",
     "start_time": "2021-02-09T13:32:40.060378Z"
    }
   },
   "source": [
    "# Jupyter Notebook Basic\n",
    "\n",
    "The Jupyter Notebook has two modes:\n",
    "\n",
    "- command mode: blue cell border\n",
    "\n",
    "- edit mode: green cell border\n",
    "\n",
    "\n",
    "While in command mode (press Esc to activate)\n",
    "\n",
    "- Enter: take you into edit mode\n",
    "\n",
    "While in edit mode (press Enter to activate)\n",
    "\n",
    "- Esc: take you into command mode\n",
    "\n",
    "\n",
    "Shortcuts in both modes:\n",
    "\n",
    "- Shift + Enter: run the current cell, select below\n",
    "\n",
    "- Ctrl + Enter: run selected cells\n",
    "\n",
    "- Alt + Enter: run the current cell, insert below\n",
    "\n",
    "- Ctrl + S: save and checkpoint\n",
    "\n",
    "\n",
    "While in command mode:\n",
    "\n",
    "- A to insert a new cell above the current cell, B to insert a new cell below.\n",
    "\n",
    "- M to change the current cell to Markdown, Y to change it back to code\n",
    "\n",
    "- D + D (press the key twice) to delete the current cell\n",
    "\n",
    "** you can check more shortcuts in [ Help -> Keyboard Shortcuts ]"
   ]
  },
  {
   "cell_type": "markdown",
   "metadata": {},
   "source": [
    "# Jupyter Notebook Extensions\n",
    "\n",
    "Jupyter Notebook extensions are simple add-ons that extend the basic functionality of the notebook environment.\n",
    "\n",
    "How to install (Run the following in a command prompt)\n",
    "\n",
    "<code> pip install jupyter_contrib_nbextensions && jupyter contrib nbextension install </code>\n",
    "\n",
    "![title](NB_ext.png)"
   ]
  },
  {
   "cell_type": "markdown",
   "metadata": {},
   "source": [
    "Based on: https://www.geeksforgeeks.org/what-is-the-difference-between-pythons-module-package-and-library/\n",
    "\n",
    "# What is the difference between Python’s Module, Package and Library?\n",
    "\n",
    "**Module**: The **module** is a simple Python file that contains collections of functions and global variables and with having a .py extension file. It is an executable file and to organize all the modules we have the concept called Package in Python.\n",
    "\n",
    "**Example**: Save the code in file called demo_module.py\n",
    "```python\n",
    "    def myModule(name): \n",
    "        print(\"This is My Module : \"+ name) \n",
    "```\n",
    "Import module named demo_module and call myModule function inside it.\n",
    "```python\n",
    "    import demo_module \n",
    "    demo_module.myModule(\"Math\") \n",
    "```\n",
    "**Output**:\n",
    "\n",
    "    This is My Module : Math"
   ]
  },
  {
   "cell_type": "markdown",
   "metadata": {},
   "source": [
    "**Package**: The **package** is a simple directory having collections of modules. This directory contains Python modules and also having __init__.py file by which the interpreter interprets it as a Package. The package is simply a namespace. The package also contains sub-packages inside it.\n",
    "\n",
    "**Example**:\n",
    "\n",
    "    Student(Package)\n",
    "    | __init__.py (Constructor)\n",
    "    | details.py (Module)\n",
    "    | marks.py (Module)\n",
    "    | collegeDetails.py (Module)"
   ]
  },
  {
   "cell_type": "markdown",
   "metadata": {},
   "source": [
    "**Library**: The **library** is having a collection of related functionality of codes that allows you to perform many tasks without writing your code. It is a reusable chunk of code that we can use by importing it in our program, we can just use it by importing that library and calling the method of that library with period(.).\n",
    "\n",
    "**Example**: Importing pandas library and call read_csv method using alias of pandas i.e. pd.\n",
    "```python\n",
    "    import pandas as pd \n",
    "  \n",
    "    df = pd.read_csv(\"file_name.csv\") \n",
    "```"
   ]
  },
  {
   "cell_type": "markdown",
   "metadata": {},
   "source": [
    "# References  \n",
    "\n",
    "Basic packages\n",
    "\n",
    "NumPy - http://www.numpy.org/  \n",
    "pandas - https://pandas.pydata.org/  \n",
    "statsmodels - https://www.statsmodels.org/stable/index.html#  \n",
    "matplotlib - https://matplotlib.org/  \n",
    "\n",
    "Websites\n",
    "\n",
    "PyEcon - https://pyecon.org/  \n",
    "Learn Python - https://www.learnpython.org/"
   ]
  },
  {
   "cell_type": "markdown",
   "metadata": {},
   "source": [
    "# NumPy\n",
    "NumPy - http://www.numpy.org/  \n",
    "\n",
    "The Numerical Python package NumPy provides efficient tools for scientific computing and data analysis:  \n",
    "1. np.array(): Multidimensional array capable of doing fast and efficient computations,  \n",
    "2. Built-in mathematical functions on arrays without writing loops,  \n",
    "3. Built-in linear algebra functions.  \n"
   ]
  },
  {
   "cell_type": "code",
   "execution_count": 1,
   "metadata": {
    "ExecuteTime": {
     "end_time": "2021-02-09T13:46:32.025796Z",
     "start_time": "2021-02-09T13:46:32.019812Z"
    }
   },
   "outputs": [],
   "source": [
    "# Create 2 new lists height and weight\n",
    "height = [1.87,  1.87, 1.82, 1.91, 1.90, 1.85]\n",
    "weight = [81.65, 97.52, 95.25, 92.98, 86.18, 88.45]\n",
    "\n",
    "# Import the numpy package as np\n",
    "import numpy as np\n",
    "\n",
    "# Create 2 numpy arrays from height and weight\n",
    "np_height = np.array(height)\n",
    "np_weight = np.array(weight)"
   ]
  },
  {
   "cell_type": "code",
   "execution_count": 2,
   "metadata": {},
   "outputs": [
    {
     "name": "stdout",
     "output_type": "stream",
     "text": [
      "[23.34925219 27.88755755 28.75558507 25.48723993 23.87257618 25.84368152]\n"
     ]
    }
   ],
   "source": [
    "# Element-wise calculations\n",
    "# Calculate bmi\n",
    "bmi = np_weight / np_height ** 2\n",
    "\n",
    "# Print the result\n",
    "print(bmi)"
   ]
  },
  {
   "cell_type": "code",
   "execution_count": 3,
   "metadata": {},
   "outputs": [
    {
     "data": {
      "text/plain": [
       "array([ True,  True,  True,  True,  True,  True])"
      ]
     },
     "execution_count": 3,
     "metadata": {},
     "output_type": "execute_result"
    }
   ],
   "source": [
    "# Subsetting\n",
    "# For a boolean response\n",
    "bmi > 23"
   ]
  },
  {
   "cell_type": "code",
   "execution_count": 4,
   "metadata": {},
   "outputs": [
    {
     "data": {
      "text/plain": [
       "array([27.88755755, 28.75558507, 25.48723993, 25.84368152])"
      ]
     },
     "execution_count": 4,
     "metadata": {},
     "output_type": "execute_result"
    }
   ],
   "source": [
    "# Print only those observations above 23\n",
    "bmi[bmi > 25]"
   ]
  },
  {
   "cell_type": "code",
   "execution_count": 5,
   "metadata": {},
   "outputs": [
    {
     "data": {
      "text/plain": [
       "array([ 4,  7,  8, -7,  3,  3])"
      ]
     },
     "execution_count": 5,
     "metadata": {},
     "output_type": "execute_result"
    }
   ],
   "source": [
    "# Conditional logic\n",
    "# np.where(condition, a, b): If condition is True, returns value a, otherwise returns b.\n",
    "\n",
    "a = np.array([4, 7, 5, -7, 9, 0])\n",
    "b = np.array([-1, 9, 8, 3, 3, 3])\n",
    "cond = np.array([True, True, False, True, False, False])\n",
    "res = np.where(cond, a, b)\n",
    "res\n",
    "## array([ 4, 7, 8, -7, 3, 3])"
   ]
  },
  {
   "cell_type": "code",
   "execution_count": 6,
   "metadata": {},
   "outputs": [
    {
     "data": {
      "text/plain": [
       "array([4, 9, 8, 3, 9, 3])"
      ]
     },
     "execution_count": 6,
     "metadata": {},
     "output_type": "execute_result"
    }
   ],
   "source": [
    "res = np.where(a <= b, b, a)\n",
    "res\n",
    "## array([4, 9, 8, 3, 9, 3])"
   ]
  },
  {
   "cell_type": "markdown",
   "metadata": {},
   "source": [
    "## Linear algebra (numpy.linalg)  \n",
    "https://numpy.org/doc/stable/reference/routines.linalg.html"
   ]
  },
  {
   "cell_type": "code",
   "execution_count": 7,
   "metadata": {},
   "outputs": [],
   "source": [
    "# Linear algebra\n",
    "import numpy.linalg as nplin"
   ]
  },
  {
   "cell_type": "code",
   "execution_count": 8,
   "metadata": {},
   "outputs": [
    {
     "name": "stdout",
     "output_type": "stream",
     "text": [
      "[0 1 2 3]\n",
      "[[0.45889207 0.93171399 0.69273904 0.44251122]]\n"
     ]
    },
    {
     "data": {
      "text/plain": [
       "(array([[0., 1.],\n",
       "        [1., 1.],\n",
       "        [2., 1.],\n",
       "        [3., 1.]]),\n",
       " array([-1. ,  0.2,  0.9,  2.1]))"
      ]
     },
     "execution_count": 8,
     "metadata": {},
     "output_type": "execute_result"
    }
   ],
   "source": [
    "# Return the least-squares solution to a linear matrix equation.\n",
    "# y = bx + e\n",
    "x = np.array([0, 1, 2, 3])\n",
    "y = np.array([-1, 0.2, 0.9, 2.1])\n",
    "\n",
    "print(x)\n",
    "print(np.random.rand(1,4))\n",
    "\n",
    "# A includes constant term\n",
    "A = np.vstack([x, np.ones(len(x))]).T\n",
    "A,y"
   ]
  },
  {
   "cell_type": "code",
   "execution_count": 9,
   "metadata": {},
   "outputs": [
    {
     "data": {
      "text/plain": [
       "(0.9999999999999997, -0.949999999999999)"
      ]
     },
     "execution_count": 9,
     "metadata": {},
     "output_type": "execute_result"
    }
   ],
   "source": [
    "b, e = np.linalg.lstsq(A, y, rcond=None)[0]\n",
    "b, e"
   ]
  },
  {
   "cell_type": "code",
   "execution_count": 10,
   "metadata": {},
   "outputs": [
    {
     "data": {
      "image/png": "[encoded data removed]",
      "text/plain": [
       "<Figure size 432x288 with 1 Axes>"
      ]
     },
     "metadata": {
      "needs_background": "light"
     },
     "output_type": "display_data"
    }
   ],
   "source": [
    "%matplotlib inline\n",
    "import matplotlib.pyplot as plt\n",
    "plt.plot(x, y, 'o', label='Original data', markersize=10)\n",
    "plt.plot(x, b*x + e, 'r', label='Fitted line')\n",
    "plt.legend()\n",
    "plt.show()"
   ]
  },
  {
   "cell_type": "markdown",
   "metadata": {},
   "source": [
    "# pandas\n",
    "pandas - https://pandas.pydata.org/  \n",
    "\n",
    "The package pandas is a free software library for Python including the following features:\n",
    "1. Data manipulation and analysis,\n",
    "2. DataFrame objects and Series,\n",
    "3. Export and import data from files and web,\n",
    "4. Handling of missing data.\n",
    "-> Provides high-performance data structures and data analysis tools."
   ]
  },
  {
   "cell_type": "code",
   "execution_count": 11,
   "metadata": {},
   "outputs": [],
   "source": [
    "import numpy as np\n",
    "import pandas as pd"
   ]
  },
  {
   "cell_type": "code",
   "execution_count": 12,
   "metadata": {},
   "outputs": [
    {
     "name": "stdout",
     "output_type": "stream",
     "text": [
      "{'country': ['Brazil', 'Russia', 'India', 'China', 'South Africa'], 'capital': ['Brasilia', 'Moscow', 'New Dehli', 'Beijing', 'Pretoria'], 'area': [8.516, 17.1, 3.286, 9.597, 1.221], 'population': [200.4, 143.5, 1252, 1357, 52.98]}\n",
      "\n",
      "        country    capital    area  population\n",
      "0        Brazil   Brasilia   8.516      200.40\n",
      "1        Russia     Moscow  17.100      143.50\n",
      "2         India  New Dehli   3.286     1252.00\n",
      "3         China    Beijing   9.597     1357.00\n",
      "4  South Africa   Pretoria   1.221       52.98\n"
     ]
    }
   ],
   "source": [
    "dict = {\"country\": [\"Brazil\", \"Russia\", \"India\", \"China\", \"South Africa\"],\n",
    "       \"capital\": [\"Brasilia\", \"Moscow\", \"New Dehli\", \"Beijing\", \"Pretoria\"],\n",
    "       \"area\": [8.516, 17.10, 3.286, 9.597, 1.221],\n",
    "       \"population\": [200.4, 143.5, 1252, 1357, 52.98] }\n",
    "\n",
    "brics = pd.DataFrame(dict)\n",
    "print(dict)\n",
    "print()\n",
    "print(brics)"
   ]
  },
  {
   "cell_type": "code",
   "execution_count": 13,
   "metadata": {
    "scrolled": true
   },
   "outputs": [
    {
     "name": "stdout",
     "output_type": "stream",
     "text": [
      "         country    capital    area  population\n",
      "BR        Brazil   Brasilia   8.516      200.40\n",
      "RU        Russia     Moscow  17.100      143.50\n",
      "IN         India  New Dehli   3.286     1252.00\n",
      "CH         China    Beijing   9.597     1357.00\n",
      "SA  South Africa   Pretoria   1.221       52.98\n"
     ]
    }
   ],
   "source": [
    "# Set the index for brics\n",
    "brics.index = [\"BR\", \"RU\", \"IN\", \"CH\", \"SA\"]\n",
    "\n",
    "# Print out brics with new index values\n",
    "print(brics)"
   ]
  },
  {
   "cell_type": "code",
   "execution_count": 14,
   "metadata": {},
   "outputs": [],
   "source": [
    "# Writing to a csv file.\n",
    "brics.to_csv(\"brics.csv\")"
   ]
  },
  {
   "cell_type": "code",
   "execution_count": 15,
   "metadata": {},
   "outputs": [
    {
     "name": "stdout",
     "output_type": "stream",
     "text": [
      "  Unnamed: 0       country    capital    area  population\n",
      "0         BR        Brazil   Brasilia   8.516      200.40\n",
      "1         RU        Russia     Moscow  17.100      143.50\n",
      "2         IN         India  New Dehli   3.286     1252.00\n",
      "3         CH         China    Beijing   9.597     1357.00\n",
      "4         SA  South Africa   Pretoria   1.221       52.98\n"
     ]
    }
   ],
   "source": [
    "# Import the brics.csv data: brics\n",
    "brics = pd.read_csv('brics.csv')\n",
    "\n",
    "# Print out brics\n",
    "print(brics)"
   ]
  },
  {
   "cell_type": "code",
   "execution_count": 16,
   "metadata": {},
   "outputs": [
    {
     "name": "stdout",
     "output_type": "stream",
     "text": [
      "BR          Brazil\n",
      "RU          Russia\n",
      "IN           India\n",
      "CH           China\n",
      "SA    South Africa\n",
      "Name: country, dtype: object\n",
      "\n",
      "         country\n",
      "BR        Brazil\n",
      "RU        Russia\n",
      "IN         India\n",
      "CH         China\n",
      "SA  South Africa\n",
      "\n",
      "         country    capital\n",
      "BR        Brazil   Brasilia\n",
      "RU        Russia     Moscow\n",
      "IN         India  New Dehli\n",
      "CH         China    Beijing\n",
      "SA  South Africa   Pretoria\n"
     ]
    }
   ],
   "source": [
    "brics = pd.read_csv('brics.csv', index_col = 0)\n",
    "\n",
    "# Print out country column as Pandas Series\n",
    "print(brics['country'])\n",
    "print()\n",
    "# Print out country column as Pandas DataFrame\n",
    "print(brics[['country']])\n",
    "print()\n",
    "# Print out DataFrame with country and capital columns\n",
    "print(brics[['country', 'capital']])"
   ]
  },
  {
   "cell_type": "code",
   "execution_count": 17,
   "metadata": {},
   "outputs": [
    {
     "name": "stdout",
     "output_type": "stream",
     "text": [
      "   country    capital    area  population\n",
      "BR  Brazil   Brasilia   8.516       200.4\n",
      "RU  Russia     Moscow  17.100       143.5\n",
      "IN   India  New Dehli   3.286      1252.0\n",
      "\n",
      "         country   capital   area  population\n",
      "CH         China   Beijing  9.597     1357.00\n",
      "SA  South Africa  Pretoria  1.221       52.98\n"
     ]
    }
   ],
   "source": [
    "# Print out first 3 observations\n",
    "print(brics[0:3])\n",
    "print()\n",
    "\n",
    "# Print out fourth and fifth observation\n",
    "print(brics[3:5])"
   ]
  },
  {
   "cell_type": "code",
   "execution_count": 18,
   "metadata": {},
   "outputs": [
    {
     "data": {
      "text/plain": [
       "<AxesSubplot:>"
      ]
     },
     "execution_count": 18,
     "metadata": {},
     "output_type": "execute_result"
    },
    {
     "data": {
      "image/png": "[encoded data removed]",
      "text/plain": [
       "<Figure size 432x288 with 1 Axes>"
      ]
     },
     "metadata": {
      "needs_background": "light"
     },
     "output_type": "display_data"
    }
   ],
   "source": [
    "# Plotting Time Series 画图：时间序列\n",
    "ts = pd.Series(np.random.randn(1000), index=pd.date_range(\"1/1/2000\", periods=1000))#periods=1000指1000个年度\n",
    "\n",
    "ts = ts.cumsum()\n",
    "\n",
    "ts.plot()"
   ]
  },
  {
   "cell_type": "code",
   "execution_count": 19,
   "metadata": {},
   "outputs": [
    {
     "data": {
      "text/plain": [
       "<matplotlib.legend.Legend at 0x216913c6340>"
      ]
     },
     "execution_count": 19,
     "metadata": {},
     "output_type": "execute_result"
    },
    {
     "data": {
      "text/plain": [
       "<Figure size 432x288 with 0 Axes>"
      ]
     },
     "metadata": {},
     "output_type": "display_data"
    },
    {
     "data": {
      "image/png": "[encoded data removed]",
      "text/plain": [
       "<Figure size 432x288 with 1 Axes>"
      ]
     },
     "metadata": {
      "needs_background": "light"
     },
     "output_type": "display_data"
    }
   ],
   "source": [
    "# Plotting DataFrame \n",
    "df = pd.DataFrame(np.random.randn(1000, 4), index=ts.index, columns=[\"A\", \"B\", \"C\", \"D\"])\n",
    "\n",
    "df = df.cumsum()\n",
    "\n",
    "plt.figure()\n",
    "\n",
    "df.plot()\n",
    "\n",
    "plt.legend(loc='best')"
   ]
  },
  {
   "cell_type": "markdown",
   "metadata": {},
   "source": [
    "# statsmodels\n",
    "statsmodels - https://www.statsmodels.org/stable/index.html#  \n",
    "- examples: https://www.statsmodels.org/stable/examples/index.html\n",
    "    \n",
    "The package statsmodels is a free software library for python including the following functions:  \n",
    "1. Statistical models \n",
    "2. Hypothesis tests\n",
    "3. Data exploration \n",
    "4. Works in Python scripts, the Python and IPython shell and the jupyter notebook"
   ]
  },
  {
   "cell_type": "code",
   "execution_count": 20,
   "metadata": {},
   "outputs": [],
   "source": [
    "%matplotlib inline"
   ]
  },
  {
   "cell_type": "code",
   "execution_count": 3,
   "metadata": {},
   "outputs": [],
   "source": [
    "import numpy as np\n",
    "import pandas as pd\n",
    "import matplotlib.pyplot as plt\n",
    "\n",
    "import statsmodels.api as sm\n",
    "\n",
    "np.random.seed(9876789)"
   ]
  },
  {
   "cell_type": "markdown",
   "metadata": {},
   "source": [
    "### OLS estimation"
   ]
  },
  {
   "cell_type": "code",
   "execution_count": 4,
   "metadata": {},
   "outputs": [],
   "source": [
    "# Artificial data:\n",
    "nsample = 100\n",
    "x = np.linspace(0, 10, 100)\n",
    "X = np.column_stack((x, x**2))\n",
    "beta = np.array([1, 0.1, 10])\n",
    "e = np.random.normal(size=nsample)"
   ]
  },
  {
   "cell_type": "code",
   "execution_count": 5,
   "metadata": {},
   "outputs": [],
   "source": [
    "# Our model needs an intercept so we add a column of 1s:\n",
    "X = sm.add_constant(X)\n",
    "y = np.dot(X, beta) + 100*e"
   ]
  },
  {
   "cell_type": "code",
   "execution_count": 7,
   "metadata": {},
   "outputs": [
    {
     "name": "stdout",
     "output_type": "stream",
     "text": [
      "                            OLS Regression Results                            \n",
      "==============================================================================\n",
      "Dep. Variable:                      y   R-squared:                       0.887\n",
      "Model:                            OLS   Adj. R-squared:                  0.884\n",
      "Method:                 Least Squares   F-statistic:                     379.9\n",
      "Date:                Fri, 19 Feb 2021   Prob (F-statistic):           1.30e-46\n",
      "Time:                        19:49:22   Log-Likelihood:                -607.03\n",
      "No. Observations:                 100   AIC:                             1220.\n",
      "Df Residuals:                      97   BIC:                             1228.\n",
      "Df Model:                           2                                         \n",
      "Covariance Type:            nonrobust                                         \n",
      "==============================================================================\n",
      "                 coef    std err          t      P>|t|      [0.025      0.975]\n",
      "------------------------------------------------------------------------------\n",
      "const         35.2335     31.273      1.127      0.263     -26.834      97.301\n",
      "x1           -13.9249     14.453     -0.963      0.338     -42.611      14.761\n",
      "x2            11.0254      1.399      7.883      0.000       8.250      13.801\n",
      "==============================================================================\n",
      "Omnibus:                        2.042   Durbin-Watson:                   2.274\n",
      "Prob(Omnibus):                  0.360   Jarque-Bera (JB):                1.875\n",
      "Skew:                           0.234   Prob(JB):                        0.392\n",
      "Kurtosis:                       2.519   Cond. No.                         144.\n",
      "==============================================================================\n",
      "\n",
      "Notes:\n",
      "[1] Standard Errors assume that the covariance matrix of the errors is correctly specified.\n"
     ]
    }
   ],
   "source": [
    "# Fit and summary:\n",
    "model = sm.OLS(y, X)\n",
    "results = model.fit()\n",
    "print(results.summary())"
   ]
  },
  {
   "cell_type": "markdown",
   "metadata": {},
   "source": [
    "# matplotlib\n",
    "matplotlib - https://matplotlib.org/  \n",
    "\n",
    "The package matplotlib is a free software library for python including the following functions:  \n",
    "1. Image plots, Contour plots, Scatter plots, Polar plots, Line plots, 3D plots,  \n",
    "2. Variety of hardcopy formats,  \n",
    "3. Works in Python scripts, the Python and IPython shell and the jupyter notebook,  \n",
    "4. Interactive environments.\n"
   ]
  },
  {
   "cell_type": "code",
   "execution_count": 25,
   "metadata": {
    "scrolled": true
   },
   "outputs": [
    {
     "data": {
      "image/png": "[encoded data removed]",
      "text/plain": [
       "<Figure size 432x288 with 1 Axes>"
      ]
     },
     "metadata": {
      "needs_background": "light"
     },
     "output_type": "display_data"
    }
   ],
   "source": [
    "\"\"\"\n",
    "simple demo of a scatter plot.\n",
    "\"\"\"\n",
    "import numpy as np\n",
    "import matplotlib.pyplot as plt\n",
    "\n",
    "N=50\n",
    "x= np.random.rand(N)\n",
    "y= np.random.rand(N)\n",
    "colors= np.random.rand(N)\n",
    "area = np.pi * (15 * np.random.rand(N))**2\n",
    "\n",
    "plt.scatter(x,y, s=area, c=colors, alpha=0.5)\n",
    "plt.show()"
   ]
  },
  {
   "cell_type": "code",
   "execution_count": 26,
   "metadata": {},
   "outputs": [
    {
     "data": {
      "image/png": "[encoded data removed]",
      "text/plain": [
       "<Figure size 576x288 with 4 Axes>"
      ]
     },
     "metadata": {
      "needs_background": "light"
     },
     "output_type": "display_data"
    }
   ],
   "source": [
    "# create figures\n",
    "fig = plt.figure(figsize=(8, 4))\n",
    "\n",
    "# adding subplots\n",
    "ax1 = fig.add_subplot(2, 2, 1)\n",
    "ax2 = fig.add_subplot(2, 2, 2)\n",
    "ax3 = fig.add_subplot(2, 2, 3)\n",
    "ax4 = fig.add_subplot(2, 2, 4)"
   ]
  },
  {
   "cell_type": "code",
   "execution_count": 27,
   "metadata": {},
   "outputs": [
    {
     "data": {
      "image/png": "[encoded data removed]",
      "text/plain": [
       "<Figure size 576x288 with 4 Axes>"
      ]
     },
     "execution_count": 27,
     "metadata": {},
     "output_type": "execute_result"
    }
   ],
   "source": [
    "# Filling subplots with content\n",
    "from numpy.random import randn\n",
    "ax1.plot([5, 7, 4, 3, 1])\n",
    "ax2.hist(randn(100), bins=20, color=\"r\")\n",
    "ax3.scatter(np.arange(30), np.arange(30) * randn(30))# Printing all numbers from 1 to 2 in steps of 0.1 \n",
    "ax4.plot(randn(40), \"k--\")\n",
    "fig"
   ]
  },
  {
   "cell_type": "markdown",
   "metadata": {},
   "source": [
    "# Random number generators\n",
    "\n",
    "https://docs.python.org/3/library/random.html"
   ]
  },
  {
   "cell_type": "code",
   "execution_count": 28,
   "metadata": {},
   "outputs": [
    {
     "name": "stdout",
     "output_type": "stream",
     "text": [
      "And the next number is... 2!\n",
      "And the next number is... 9!\n",
      "And the next number is... 3!\n",
      "And the next number is... 22!\n",
      "And the next number is... 12!\n",
      "And the next number is... 22!\n",
      "And the next number is... 4!\n"
     ]
    }
   ],
   "source": [
    "import random\n",
    "\n",
    "def lottery():\n",
    "    # returns 6 numbers between 1 and 40\n",
    "    for i in range(6):\n",
    "        yield random.randint(1, 40) #randint(start, end)\n",
    "\n",
    "    # returns a 7th number between 1 and 15\n",
    "    yield random.randint(1,15)\n",
    "\n",
    "for random_number in lottery():\n",
    "       print(\"And the next number is... %d!\" %(random_number))"
   ]
  },
  {
   "cell_type": "markdown",
   "metadata": {},
   "source": [
    "# Plotting OLS "
   ]
  },
  {
   "cell_type": "code",
   "execution_count": 29,
   "metadata": {},
   "outputs": [
    {
     "data": {
      "text/plain": [
       "[<matplotlib.lines.Line2D at 0x21694596a60>]"
      ]
     },
     "execution_count": 29,
     "metadata": {},
     "output_type": "execute_result"
    },
    {
     "data": {
      "image/png": "[encoded data removed]",
      "text/plain": [
       "<Figure size 576x288 with 1 Axes>"
      ]
     },
     "metadata": {
      "needs_background": "light"
     },
     "output_type": "display_data"
    }
   ],
   "source": [
    "import numpy as np\n",
    "import matplotlib.pyplot as plt\n",
    "import statsmodels.api as sm\n",
    "\n",
    "# numpy\n",
    "x = np.random.randn(100)\n",
    "y = x + np.random.randn(100) + 100\n",
    "\n",
    "# matplotlib\n",
    "fig, ax = plt.subplots(figsize=(8, 4))\n",
    "ax.scatter(x, y, alpha=0.5, color='orchid')#The Axes.scatter() function in axes module of matplotlib library is used to plot a scatter of y vs. x with varying marker size and/or color.\n",
    "fig.suptitle('Example Scatter Plot')\n",
    "fig.tight_layout(pad=2); \n",
    "ax.grid(True)\n",
    "\n",
    "# statsmodels\n",
    "x = sm.add_constant(x) # constant intercept term\n",
    "# Model: y ~ x + c\n",
    "model = sm.OLS(y, x)\n",
    "fitted = model.fit()\n",
    "x_pred = np.linspace(x.min(), x.max(), 50)\n",
    "x_pred2 = sm.add_constant(x_pred)\n",
    "y_pred = fitted.predict(x_pred2)\n",
    "\n",
    "ax.plot(x_pred, y_pred, '-', color='darkorchid', linewidth=2)"
   ]
  }
 ],
 "metadata": {
  "celltoolbar": "Slideshow",
  "hide_input": false,
  "kernelspec": {
   "display_name": "Python 3",
   "language": "python",
   "name": "python3"
  },
  "language_info": {
   "codemirror_mode": {
    "name": "ipython",
    "version": 3
   },
   "file_extension": ".py",
   "mimetype": "text/x-python",
   "name": "python",
   "nbconvert_exporter": "python",
   "pygments_lexer": "ipython3",
   "version": "3.8.5"
  },
  "latex_envs": {
   "LaTeX_envs_menu_present": true,
   "autoclose": false,
   "autocomplete": true,
   "bibliofile": "biblio.bib",
   "cite_by": "apalike",
   "current_citInitial": 1,
   "eqLabelWithNumbers": true,
   "eqNumInitial": 1,
   "hotkeys": {
    "equation": "Ctrl-E",
    "itemize": "Ctrl-I"
   },
   "labels_anchors": false,
   "latex_user_defs": false,
   "report_style_numbering": false,
   "user_envs_cfg": false
  },
  "toc": {
   "base_numbering": 1,
   "nav_menu": {},
   "number_sections": false,
   "sideBar": true,
   "skip_h1_title": true,
   "title_cell": "Table of Contents",
   "title_sidebar": "Contents",
   "toc_cell": false,
   "toc_position": {
    "height": "calc(100% - 180px)",
    "left": "10px",
    "top": "150px",
    "width": "200px"
   },
   "toc_section_display": true,
   "toc_window_display": true
  },
  "varInspector": {
   "cols": {
    "lenName": 16,
    "lenType": 16,
    "lenVar": 40
   },
   "kernels_config": {
    "python": {
     "delete_cmd_postfix": "",
     "delete_cmd_prefix": "del ",
     "library": "var_list.py",
     "varRefreshCmd": "print(var_dic_list())"
    },
    "r": {
     "delete_cmd_postfix": ") ",
     "delete_cmd_prefix": "rm(",
     "library": "var_list.r",
     "varRefreshCmd": "cat(var_dic_list()) "
    }
   },
   "types_to_exclude": [
    "module",
    "function",
    "builtin_function_or_method",
    "instance",
    "_Feature"
   ],
   "window_display": false
  }
 },
 "nbformat": 4,
 "nbformat_minor": 4
}
